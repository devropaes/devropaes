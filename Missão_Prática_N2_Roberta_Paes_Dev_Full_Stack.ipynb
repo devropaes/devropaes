{
  "nbformat": 4,
  "nbformat_minor": 0,
  "metadata": {
    "colab": {
      "provenance": [],
      "authorship_tag": "ABX9TyNFYH23dFNgCaaeOgmZGUWj",
      "include_colab_link": true
    },
    "kernelspec": {
      "name": "python3",
      "display_name": "Python 3"
    },
    "language_info": {
      "name": "python"
    }
  },
  "cells": [
    {
      "cell_type": "markdown",
      "metadata": {
        "id": "view-in-github",
        "colab_type": "text"
      },
      "source": [
        "<a href=\"https://colab.research.google.com/github/devropaes/devropaes/blob/main/Miss%C3%A3o_Pr%C3%A1tica_N2_Roberta_Paes_Dev_Full_Stack.ipynb\" target=\"_parent\"><img src=\"https://colab.research.google.com/assets/colab-badge.svg\" alt=\"Open In Colab\"/></a>"
      ]
    },
    {
      "cell_type": "code",
      "execution_count": 1,
      "metadata": {
        "colab": {
          "base_uri": "https://localhost:8080/"
        },
        "id": "xNkE35Mt_0ci",
        "outputId": "4f70d3fb-7ade-4fd6-e51b-b5d083d92e81"
      },
      "outputs": [
        {
          "output_type": "stream",
          "name": "stdout",
          "text": [
            "Número da base decimal:23\n",
            "Conversão para base binária:10111\n"
          ]
        }
      ],
      "source": [
        "numero_base_decimal = 23\n",
        "numero_base_binaria = \"{0:b}\".format (numero_base_decimal)\n",
        "print(f'Número da base decimal:{numero_base_decimal}')\n",
        "print(f'Conversão para base binária:{numero_base_binaria}')\n"
      ]
    },
    {
      "cell_type": "code",
      "source": [
        "numero_base_decimal = 0\n",
        "numero_base_binaria = \"{0:b}\".format (numero_base_decimal)\n",
        "print(f'Número da base decimal:{numero_base_decimal}')\n",
        "print(f'Conversão para base binária:{numero_base_binaria}')\n"
      ],
      "metadata": {
        "colab": {
          "base_uri": "https://localhost:8080/"
        },
        "id": "HCkTUCrLO4r6",
        "outputId": "98386e8a-1763-47fe-a111-38959e5be5b6"
      },
      "execution_count": 3,
      "outputs": [
        {
          "output_type": "stream",
          "name": "stdout",
          "text": [
            "Número da base decimal:0\n",
            "Conversão para base binária:0\n"
          ]
        }
      ]
    },
    {
      "cell_type": "code",
      "source": [
        "# Conversão de número decimal para binário\n",
        "def decimal_para_binario(decimal):\n",
        "    if decimal == 0:\n",
        "        return \"0\"  # Binário de 0 é 0\n",
        "    binario = \"\"\n",
        "    while decimal > 0:\n",
        "        resto = decimal % 2\n",
        "        binario = str(resto) + binario\n",
        "        decimal = decimal // 2\n",
        "    return \" \" + binario\n",
        "\n",
        "# Na prática fica assim\n",
        "numero_decimal = 10000  # Utilize aqui o número que deseja converter,usei o 10000\n",
        "numero_binario = decimal_para_binario(numero_decimal)\n",
        "print(f\"{numero_decimal} em binário é {numero_binario}\")\n"
      ],
      "metadata": {
        "colab": {
          "base_uri": "https://localhost:8080/"
        },
        "id": "Ue0LOJSsNW5T",
        "outputId": "3c2f70dc-9a37-4361-eb88-5d2697b8086e"
      },
      "execution_count": 2,
      "outputs": [
        {
          "output_type": "stream",
          "name": "stdout",
          "text": [
            "10000 em binário é  10011100010000\n"
          ]
        }
      ]
    }
  ]
}