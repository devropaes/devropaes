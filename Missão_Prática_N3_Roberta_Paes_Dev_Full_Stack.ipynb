{
  "nbformat": 4,
  "nbformat_minor": 0,
  "metadata": {
    "colab": {
      "provenance": [],
      "authorship_tag": "ABX9TyO9OiQd1pStsAJRMhFuwHW5",
      "include_colab_link": true
    },
    "kernelspec": {
      "name": "python3",
      "display_name": "Python 3"
    },
    "language_info": {
      "name": "python"
    }
  },
  "cells": [
    {
      "cell_type": "markdown",
      "metadata": {
        "id": "view-in-github",
        "colab_type": "text"
      },
      "source": [
        "<a href=\"https://colab.research.google.com/github/devropaes/devropaes/blob/main/Miss%C3%A3o_Pr%C3%A1tica_N3_Roberta_Paes_Dev_Full_Stack.ipynb\" target=\"_parent\"><img src=\"https://colab.research.google.com/assets/colab-badge.svg\" alt=\"Open In Colab\"/></a>"
      ]
    },
    {
      "cell_type": "code",
      "execution_count": 5,
      "metadata": {
        "colab": {
          "base_uri": "https://localhost:8080/"
        },
        "id": "2Wp1U45fFFlJ",
        "outputId": "b61e88c7-449e-47ff-cb92-e175f71d74fe"
      },
      "outputs": [
        {
          "output_type": "stream",
          "name": "stdout",
          "text": [
            "[(1,), (2,), (3,), (1, 2), (1, 3), (2, 3), (1, 2, 3)]\n"
          ]
        },
        {
          "output_type": "execute_result",
          "data": {
            "text/plain": [
              "[[], [1], [2], [3], [1, 2], [1, 3], [2, 3], [1, 2, 3]]"
            ]
          },
          "metadata": {},
          "execution_count": 5
        }
      ],
      "source": [
        "# Segue o passo a passo da Missão Prática 3\n",
        "# Conjunto de entrada (números informados)\n",
        "conjunto = [1, 2, 3]\n",
        "# Para arnazenar os resultados use uma lista vazia\n",
        "resultados = []\n",
        "\n",
        "# Para as combinações possíveis use um loop (repetição) de cálculo usando for/range/len\n",
        "for i in range(1, len(conjunto) + 1):\n",
        "\n",
        "# Agora Use a função combinations/itertools para calcular as combinações\n",
        "    from itertools import combinations\n",
        "    comb = list(combinations(conjunto, i))\n",
        "    resultados.extend(comb)\n",
        "\n",
        "# Agora vamos solicitar a  Impressão dos resultados e testar\n",
        "print(resultados)\n",
        "[[], [1], [2], [3], [1, 2], [1, 3], [2, 3], [1, 2, 3]]\n"
      ]
    }
  ]
}